{
 "cells": [
  {
   "cell_type": "code",
   "execution_count": 13,
   "metadata": {
    "execution": {
     "iopub.execute_input": "2021-12-01T08:56:05.641849Z",
     "iopub.status.busy": "2021-12-01T08:56:05.640849Z",
     "iopub.status.idle": "2021-12-01T08:56:05.656843Z",
     "shell.execute_reply": "2021-12-01T08:56:05.656843Z",
     "shell.execute_reply.started": "2021-12-01T08:56:05.641849Z"
    }
   },
   "outputs": [],
   "source": [
    "import numpy as np"
   ]
  },
  {
   "cell_type": "code",
   "execution_count": 14,
   "metadata": {
    "execution": {
     "iopub.execute_input": "2021-12-01T08:56:20.008124Z",
     "iopub.status.busy": "2021-12-01T08:56:20.007121Z",
     "iopub.status.idle": "2021-12-01T08:56:20.021121Z",
     "shell.execute_reply": "2021-12-01T08:56:20.021121Z",
     "shell.execute_reply.started": "2021-12-01T08:56:20.007121Z"
    }
   },
   "outputs": [],
   "source": [
    "txt = [int(i) for i in open('dataset.csv').readlines()]"
   ]
  },
  {
   "cell_type": "code",
   "execution_count": 15,
   "metadata": {
    "execution": {
     "iopub.execute_input": "2021-12-01T08:57:54.526838Z",
     "iopub.status.busy": "2021-12-01T08:57:54.526838Z",
     "iopub.status.idle": "2021-12-01T08:57:54.534837Z",
     "shell.execute_reply": "2021-12-01T08:57:54.534837Z",
     "shell.execute_reply.started": "2021-12-01T08:57:54.526838Z"
    }
   },
   "outputs": [],
   "source": [
    "x = np.array(txt)"
   ]
  },
  {
   "cell_type": "code",
   "execution_count": 19,
   "metadata": {
    "execution": {
     "iopub.execute_input": "2021-12-01T08:58:19.575819Z",
     "iopub.status.busy": "2021-12-01T08:58:19.575819Z",
     "iopub.status.idle": "2021-12-01T08:58:19.588818Z",
     "shell.execute_reply": "2021-12-01T08:58:19.588818Z",
     "shell.execute_reply.started": "2021-12-01T08:58:19.575819Z"
    },
    "tags": []
   },
   "outputs": [],
   "source": [
    "diff = x[:-1] - x[1:]"
   ]
  },
  {
   "cell_type": "code",
   "execution_count": 20,
   "metadata": {
    "execution": {
     "iopub.execute_input": "2021-12-01T08:58:22.191849Z",
     "iopub.status.busy": "2021-12-01T08:58:22.190850Z",
     "iopub.status.idle": "2021-12-01T08:58:22.201848Z",
     "shell.execute_reply": "2021-12-01T08:58:22.201848Z",
     "shell.execute_reply.started": "2021-12-01T08:58:22.191849Z"
    },
    "tags": []
   },
   "outputs": [
    {
     "data": {
      "text/plain": [
       "(1999,)"
      ]
     },
     "execution_count": 20,
     "metadata": {},
     "output_type": "execute_result"
    }
   ],
   "source": [
    "diff.shape"
   ]
  },
  {
   "cell_type": "code",
   "execution_count": 23,
   "metadata": {
    "execution": {
     "iopub.execute_input": "2021-12-01T08:58:46.763416Z",
     "iopub.status.busy": "2021-12-01T08:58:46.763416Z",
     "iopub.status.idle": "2021-12-01T08:58:46.778415Z",
     "shell.execute_reply": "2021-12-01T08:58:46.778415Z",
     "shell.execute_reply.started": "2021-12-01T08:58:46.763416Z"
    },
    "tags": []
   },
   "outputs": [
    {
     "data": {
      "text/plain": [
       "1759"
      ]
     },
     "execution_count": 23,
     "metadata": {},
     "output_type": "execute_result"
    }
   ],
   "source": [
    "(diff < 0).sum()"
   ]
  },
  {
   "cell_type": "code",
   "execution_count": null,
   "metadata": {},
   "outputs": [],
   "source": []
  }
 ],
 "metadata": {
  "kernelspec": {
   "display_name": "Python 3",
   "language": "python",
   "name": "python3"
  },
  "language_info": {
   "codemirror_mode": {
    "name": "ipython",
    "version": 3
   },
   "file_extension": ".py",
   "mimetype": "text/x-python",
   "name": "python",
   "nbconvert_exporter": "python",
   "pygments_lexer": "ipython3",
   "version": "3.9.0"
  }
 },
 "nbformat": 4,
 "nbformat_minor": 4
}
