{
 "cells": [
  {
   "cell_type": "code",
   "execution_count": 1,
   "metadata": {
    "execution": {
     "iopub.execute_input": "2021-12-02T14:05:41.656614Z",
     "iopub.status.busy": "2021-12-02T14:05:41.656614Z",
     "iopub.status.idle": "2021-12-02T14:05:41.662611Z",
     "shell.execute_reply": "2021-12-02T14:05:41.662611Z",
     "shell.execute_reply.started": "2021-12-02T14:05:41.656614Z"
    }
   },
   "outputs": [],
   "source": [
    "horizontal = 0\n",
    "vertical = 0"
   ]
  },
  {
   "cell_type": "code",
   "execution_count": 2,
   "metadata": {
    "execution": {
     "iopub.execute_input": "2021-12-02T14:06:24.135197Z",
     "iopub.status.busy": "2021-12-02T14:06:24.135197Z",
     "iopub.status.idle": "2021-12-02T14:06:24.139197Z",
     "shell.execute_reply": "2021-12-02T14:06:24.139197Z",
     "shell.execute_reply.started": "2021-12-02T14:06:24.135197Z"
    }
   },
   "outputs": [],
   "source": [
    "import pandas as pd"
   ]
  },
  {
   "cell_type": "code",
   "execution_count": 8,
   "metadata": {
    "execution": {
     "iopub.execute_input": "2021-12-02T14:07:09.081715Z",
     "iopub.status.busy": "2021-12-02T14:07:09.081715Z",
     "iopub.status.idle": "2021-12-02T14:07:09.089711Z",
     "shell.execute_reply": "2021-12-02T14:07:09.089711Z",
     "shell.execute_reply.started": "2021-12-02T14:07:09.081715Z"
    },
    "tags": []
   },
   "outputs": [],
   "source": [
    "df = pd.read_csv('input.txt', delimiter=\" \", names=['direction', 'step'])"
   ]
  },
  {
   "cell_type": "code",
   "execution_count": 20,
   "metadata": {
    "execution": {
     "iopub.execute_input": "2021-12-02T14:10:44.964736Z",
     "iopub.status.busy": "2021-12-02T14:10:44.964736Z",
     "iopub.status.idle": "2021-12-02T14:10:44.974736Z",
     "shell.execute_reply": "2021-12-02T14:10:44.973733Z",
     "shell.execute_reply.started": "2021-12-02T14:10:44.964736Z"
    },
    "tags": []
   },
   "outputs": [],
   "source": [
    "def f_horizontal(row):\n",
    "    \n",
    "    if row['direction'] == 'forward':\n",
    "        return row['step']\n",
    "    return 0\n",
    "\n",
    "def f_depth(row):\n",
    "    if row['direction'] == 'down':\n",
    "        return row['step']\n",
    "    if row['direction'] == 'up':\n",
    "        return -row['step']\n",
    "    return 0\n",
    "    "
   ]
  },
  {
   "cell_type": "code",
   "execution_count": 21,
   "metadata": {
    "execution": {
     "iopub.execute_input": "2021-12-02T14:10:45.319057Z",
     "iopub.status.busy": "2021-12-02T14:10:45.318057Z",
     "iopub.status.idle": "2021-12-02T14:10:45.349073Z",
     "shell.execute_reply": "2021-12-02T14:10:45.349073Z",
     "shell.execute_reply.started": "2021-12-02T14:10:45.319057Z"
    },
    "tags": []
   },
   "outputs": [],
   "source": [
    "df['horizontal'] = df.apply(f_horizontal, axis=1)\n",
    "df['depth'] = df.apply(f_depth, axis=1)"
   ]
  },
  {
   "cell_type": "code",
   "execution_count": 22,
   "metadata": {
    "execution": {
     "iopub.execute_input": "2021-12-02T14:10:45.983075Z",
     "iopub.status.busy": "2021-12-02T14:10:45.983075Z",
     "iopub.status.idle": "2021-12-02T14:10:46.003077Z",
     "shell.execute_reply": "2021-12-02T14:10:46.003077Z",
     "shell.execute_reply.started": "2021-12-02T14:10:45.983075Z"
    },
    "tags": []
   },
   "outputs": [
    {
     "data": {
      "text/html": [
       "<div>\n",
       "<style scoped>\n",
       "    .dataframe tbody tr th:only-of-type {\n",
       "        vertical-align: middle;\n",
       "    }\n",
       "\n",
       "    .dataframe tbody tr th {\n",
       "        vertical-align: top;\n",
       "    }\n",
       "\n",
       "    .dataframe thead th {\n",
       "        text-align: right;\n",
       "    }\n",
       "</style>\n",
       "<table border=\"1\" class=\"dataframe tex2jax_ignore\">\n",
       "  <thead>\n",
       "    <tr style=\"text-align: right;\">\n",
       "      <th></th>\n",
       "      <th>direction</th>\n",
       "      <th>step</th>\n",
       "      <th>horizontal</th>\n",
       "      <th>depth</th>\n",
       "    </tr>\n",
       "  </thead>\n",
       "  <tbody>\n",
       "    <tr>\n",
       "      <th>0</th>\n",
       "      <td>forward</td>\n",
       "      <td>8</td>\n",
       "      <td>8</td>\n",
       "      <td>0</td>\n",
       "    </tr>\n",
       "    <tr>\n",
       "      <th>1</th>\n",
       "      <td>forward</td>\n",
       "      <td>9</td>\n",
       "      <td>9</td>\n",
       "      <td>0</td>\n",
       "    </tr>\n",
       "    <tr>\n",
       "      <th>2</th>\n",
       "      <td>forward</td>\n",
       "      <td>9</td>\n",
       "      <td>9</td>\n",
       "      <td>0</td>\n",
       "    </tr>\n",
       "    <tr>\n",
       "      <th>3</th>\n",
       "      <td>down</td>\n",
       "      <td>3</td>\n",
       "      <td>0</td>\n",
       "      <td>3</td>\n",
       "    </tr>\n",
       "    <tr>\n",
       "      <th>4</th>\n",
       "      <td>forward</td>\n",
       "      <td>9</td>\n",
       "      <td>9</td>\n",
       "      <td>0</td>\n",
       "    </tr>\n",
       "    <tr>\n",
       "      <th>...</th>\n",
       "      <td>...</td>\n",
       "      <td>...</td>\n",
       "      <td>...</td>\n",
       "      <td>...</td>\n",
       "    </tr>\n",
       "    <tr>\n",
       "      <th>995</th>\n",
       "      <td>down</td>\n",
       "      <td>3</td>\n",
       "      <td>0</td>\n",
       "      <td>3</td>\n",
       "    </tr>\n",
       "    <tr>\n",
       "      <th>996</th>\n",
       "      <td>up</td>\n",
       "      <td>5</td>\n",
       "      <td>0</td>\n",
       "      <td>-5</td>\n",
       "    </tr>\n",
       "    <tr>\n",
       "      <th>997</th>\n",
       "      <td>down</td>\n",
       "      <td>7</td>\n",
       "      <td>0</td>\n",
       "      <td>7</td>\n",
       "    </tr>\n",
       "    <tr>\n",
       "      <th>998</th>\n",
       "      <td>down</td>\n",
       "      <td>7</td>\n",
       "      <td>0</td>\n",
       "      <td>7</td>\n",
       "    </tr>\n",
       "    <tr>\n",
       "      <th>999</th>\n",
       "      <td>forward</td>\n",
       "      <td>9</td>\n",
       "      <td>9</td>\n",
       "      <td>0</td>\n",
       "    </tr>\n",
       "  </tbody>\n",
       "</table>\n",
       "<p>1000 rows × 4 columns</p>\n",
       "</div>"
      ],
      "text/plain": [
       "    direction  step  horizontal  depth\n",
       "0     forward     8           8      0\n",
       "1     forward     9           9      0\n",
       "2     forward     9           9      0\n",
       "3        down     3           0      3\n",
       "4     forward     9           9      0\n",
       "..        ...   ...         ...    ...\n",
       "995      down     3           0      3\n",
       "996        up     5           0     -5\n",
       "997      down     7           0      7\n",
       "998      down     7           0      7\n",
       "999   forward     9           9      0\n",
       "\n",
       "[1000 rows x 4 columns]"
      ]
     },
     "execution_count": 22,
     "metadata": {},
     "output_type": "execute_result"
    }
   ],
   "source": [
    "df"
   ]
  },
  {
   "cell_type": "code",
   "execution_count": 23,
   "metadata": {
    "execution": {
     "iopub.execute_input": "2021-12-02T14:10:46.953867Z",
     "iopub.status.busy": "2021-12-02T14:10:46.953867Z",
     "iopub.status.idle": "2021-12-02T14:10:46.971867Z",
     "shell.execute_reply": "2021-12-02T14:10:46.971867Z",
     "shell.execute_reply.started": "2021-12-02T14:10:46.953867Z"
    },
    "tags": []
   },
   "outputs": [
    {
     "data": {
      "text/plain": [
       "2003"
      ]
     },
     "execution_count": 23,
     "metadata": {},
     "output_type": "execute_result"
    }
   ],
   "source": [
    "df['horizontal'].sum()"
   ]
  },
  {
   "cell_type": "code",
   "execution_count": 24,
   "metadata": {
    "execution": {
     "iopub.execute_input": "2021-12-02T14:10:47.608867Z",
     "iopub.status.busy": "2021-12-02T14:10:47.608867Z",
     "iopub.status.idle": "2021-12-02T14:10:47.626869Z",
     "shell.execute_reply": "2021-12-02T14:10:47.626869Z",
     "shell.execute_reply.started": "2021-12-02T14:10:47.608867Z"
    },
    "tags": []
   },
   "outputs": [
    {
     "data": {
      "text/plain": [
       "872"
      ]
     },
     "execution_count": 24,
     "metadata": {},
     "output_type": "execute_result"
    }
   ],
   "source": [
    "df['depth'].sum()"
   ]
  },
  {
   "cell_type": "code",
   "execution_count": 25,
   "metadata": {
    "execution": {
     "iopub.execute_input": "2021-12-02T14:10:47.920014Z",
     "iopub.status.busy": "2021-12-02T14:10:47.920014Z",
     "iopub.status.idle": "2021-12-02T14:10:47.937009Z",
     "shell.execute_reply": "2021-12-02T14:10:47.937009Z",
     "shell.execute_reply.started": "2021-12-02T14:10:47.920014Z"
    },
    "tags": []
   },
   "outputs": [
    {
     "data": {
      "text/plain": [
       "1746616"
      ]
     },
     "execution_count": 25,
     "metadata": {},
     "output_type": "execute_result"
    }
   ],
   "source": [
    "df['horizontal'].sum() * df['depth'].sum()"
   ]
  },
  {
   "cell_type": "code",
   "execution_count": null,
   "metadata": {},
   "outputs": [],
   "source": []
  }
 ],
 "metadata": {
  "kernelspec": {
   "display_name": "Python 3",
   "language": "python",
   "name": "python3"
  },
  "language_info": {
   "codemirror_mode": {
    "name": "ipython",
    "version": 3
   },
   "file_extension": ".py",
   "mimetype": "text/x-python",
   "name": "python",
   "nbconvert_exporter": "python",
   "pygments_lexer": "ipython3",
   "version": "3.9.0"
  }
 },
 "nbformat": 4,
 "nbformat_minor": 4
}
