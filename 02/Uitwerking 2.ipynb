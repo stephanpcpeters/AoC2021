{
 "cells": [
  {
   "cell_type": "code",
   "execution_count": 1,
   "metadata": {
    "execution": {
     "iopub.execute_input": "2021-12-02T14:14:00.306036Z",
     "iopub.status.busy": "2021-12-02T14:14:00.305036Z",
     "iopub.status.idle": "2021-12-02T14:14:00.308040Z",
     "shell.execute_reply": "2021-12-02T14:14:00.308040Z",
     "shell.execute_reply.started": "2021-12-02T14:14:00.306036Z"
    },
    "tags": []
   },
   "outputs": [],
   "source": [
    "horizontal = 0\n",
    "vertical = 0"
   ]
  },
  {
   "cell_type": "code",
   "execution_count": 2,
   "metadata": {
    "execution": {
     "iopub.execute_input": "2021-12-02T14:14:00.478728Z",
     "iopub.status.busy": "2021-12-02T14:14:00.477728Z",
     "iopub.status.idle": "2021-12-02T14:14:00.481727Z",
     "shell.execute_reply": "2021-12-02T14:14:00.481727Z",
     "shell.execute_reply.started": "2021-12-02T14:14:00.478728Z"
    },
    "tags": []
   },
   "outputs": [],
   "source": [
    "import pandas as pd"
   ]
  },
  {
   "cell_type": "code",
   "execution_count": 16,
   "metadata": {
    "execution": {
     "iopub.execute_input": "2021-12-02T14:18:55.750655Z",
     "iopub.status.busy": "2021-12-02T14:18:55.750655Z",
     "iopub.status.idle": "2021-12-02T14:18:55.766650Z",
     "shell.execute_reply": "2021-12-02T14:18:55.766650Z",
     "shell.execute_reply.started": "2021-12-02T14:18:55.750655Z"
    },
    "tags": []
   },
   "outputs": [],
   "source": [
    "df = pd.read_csv('input.txt', delimiter=\" \", names=['direction', 'X'])"
   ]
  },
  {
   "cell_type": "code",
   "execution_count": 17,
   "metadata": {
    "execution": {
     "iopub.execute_input": "2021-12-02T14:18:56.070238Z",
     "iopub.status.busy": "2021-12-02T14:18:56.070238Z",
     "iopub.status.idle": "2021-12-02T14:18:56.126235Z",
     "shell.execute_reply": "2021-12-02T14:18:56.126235Z",
     "shell.execute_reply.started": "2021-12-02T14:18:56.070238Z"
    },
    "tags": []
   },
   "outputs": [],
   "source": [
    "horizontal, depth, aim = 0,0,0\n",
    "\n",
    "for i, row in df.iterrows():\n",
    "    \n",
    "    direction = row['direction']\n",
    "    X = row['X']\n",
    "    \n",
    "    if direction == 'down':\n",
    "        aim += row['X']\n",
    "        \n",
    "    elif direction == 'up':\n",
    "        aim -= row['X']\n",
    "        \n",
    "    elif direction == 'forward':\n",
    "        horizontal += X\n",
    "        depth += aim * X\n",
    "        \n",
    "    \n",
    "    "
   ]
  },
  {
   "cell_type": "code",
   "execution_count": 18,
   "metadata": {
    "execution": {
     "iopub.execute_input": "2021-12-02T14:18:56.286807Z",
     "iopub.status.busy": "2021-12-02T14:18:56.285805Z",
     "iopub.status.idle": "2021-12-02T14:18:56.301807Z",
     "shell.execute_reply": "2021-12-02T14:18:56.301807Z",
     "shell.execute_reply.started": "2021-12-02T14:18:56.286807Z"
    },
    "tags": []
   },
   "outputs": [
    {
     "data": {
      "text/plain": [
       "(2003, 869681, 872)"
      ]
     },
     "execution_count": 18,
     "metadata": {},
     "output_type": "execute_result"
    }
   ],
   "source": [
    "horizontal, depth, aim"
   ]
  },
  {
   "cell_type": "code",
   "execution_count": 19,
   "metadata": {
    "execution": {
     "iopub.execute_input": "2021-12-02T14:19:01.143625Z",
     "iopub.status.busy": "2021-12-02T14:19:01.143625Z",
     "iopub.status.idle": "2021-12-02T14:19:01.156623Z",
     "shell.execute_reply": "2021-12-02T14:19:01.156623Z",
     "shell.execute_reply.started": "2021-12-02T14:19:01.143625Z"
    }
   },
   "outputs": [
    {
     "data": {
      "text/plain": [
       "1741971043"
      ]
     },
     "execution_count": 19,
     "metadata": {},
     "output_type": "execute_result"
    }
   ],
   "source": [
    "horizontal * depth"
   ]
  },
  {
   "cell_type": "code",
   "execution_count": null,
   "metadata": {},
   "outputs": [],
   "source": []
  }
 ],
 "metadata": {
  "kernelspec": {
   "display_name": "Python 3",
   "language": "python",
   "name": "python3"
  },
  "language_info": {
   "codemirror_mode": {
    "name": "ipython",
    "version": 3
   },
   "file_extension": ".py",
   "mimetype": "text/x-python",
   "name": "python",
   "nbconvert_exporter": "python",
   "pygments_lexer": "ipython3",
   "version": "3.9.0"
  }
 },
 "nbformat": 4,
 "nbformat_minor": 4
}
