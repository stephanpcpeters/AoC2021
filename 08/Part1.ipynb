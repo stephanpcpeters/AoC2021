{
 "cells": [
  {
   "cell_type": "code",
   "execution_count": 1,
   "metadata": {
    "execution": {
     "iopub.execute_input": "2021-12-24T11:18:22.037649Z",
     "iopub.status.busy": "2021-12-24T11:18:22.037649Z",
     "iopub.status.idle": "2021-12-24T11:18:22.049644Z",
     "shell.execute_reply": "2021-12-24T11:18:22.049644Z",
     "shell.execute_reply.started": "2021-12-24T11:18:22.037649Z"
    }
   },
   "outputs": [],
   "source": [
    "import numpy as np"
   ]
  },
  {
   "cell_type": "code",
   "execution_count": 2,
   "metadata": {
    "execution": {
     "iopub.execute_input": "2021-12-24T11:18:22.050644Z",
     "iopub.status.busy": "2021-12-24T11:18:22.050644Z",
     "iopub.status.idle": "2021-12-24T11:18:22.065648Z",
     "shell.execute_reply": "2021-12-24T11:18:22.065648Z",
     "shell.execute_reply.started": "2021-12-24T11:18:22.050644Z"
    },
    "tags": []
   },
   "outputs": [],
   "source": [
    "class Decoder:\n",
    "    \n",
    "    def __init__(self, rawstring:str):\n",
    "    \n",
    "        raw_input = rawstring.split('|')[0].strip()\n",
    "        raw_output = rawstring.split('|')[1].strip()\n",
    "        \n",
    "        self.input_keywords = raw_input.split(' ')\n",
    "        self.output_keywords = raw_output.split(' ')\n",
    "        \n",
    "        self.len_input_keywords = [len(set(keyword)) for keyword in self.input_keywords]\n",
    "        self.len_output_keywords = [len(set(keyword)) for keyword in self.output_keywords]\n",
    "            \n",
    "        return\n",
    "    \n",
    "    def __repr__(self):\n",
    "        \n",
    "        return \"in: {0}; out: {1}\".format(\",\".join(self.input_keywords), \",\".join(self.output_keywords))\n",
    "    \n",
    "    def unique_keywords_in_output(self, values=[2,4,3,7]):\n",
    "        \n",
    "        return len([i for i in self.len_output_keywords if i in values])\n",
    "    "
   ]
  },
  {
   "cell_type": "code",
   "execution_count": 3,
   "metadata": {
    "execution": {
     "iopub.execute_input": "2021-12-24T11:18:22.066645Z",
     "iopub.status.busy": "2021-12-24T11:18:22.066645Z",
     "iopub.status.idle": "2021-12-24T11:18:22.081667Z",
     "shell.execute_reply": "2021-12-24T11:18:22.081667Z",
     "shell.execute_reply.started": "2021-12-24T11:18:22.066645Z"
    },
    "tags": []
   },
   "outputs": [],
   "source": [
    "# Validation\n",
    "raw = open('validation1.txt').read().split('\\n')"
   ]
  },
  {
   "cell_type": "code",
   "execution_count": 4,
   "metadata": {
    "execution": {
     "iopub.execute_input": "2021-12-24T11:18:22.082667Z",
     "iopub.status.busy": "2021-12-24T11:18:22.082667Z",
     "iopub.status.idle": "2021-12-24T11:18:22.097666Z",
     "shell.execute_reply": "2021-12-24T11:18:22.097666Z",
     "shell.execute_reply.started": "2021-12-24T11:18:22.082667Z"
    },
    "tags": []
   },
   "outputs": [
    {
     "data": {
      "text/plain": [
       "26"
      ]
     },
     "execution_count": 4,
     "metadata": {},
     "output_type": "execute_result"
    }
   ],
   "source": [
    "decoder_ring = [Decoder(line) for line in raw]\n",
    "\n",
    "unique_values = [decoder.unique_keywords_in_output() for decoder in decoder_ring]\n",
    "sum(unique_values)"
   ]
  },
  {
   "cell_type": "code",
   "execution_count": 5,
   "metadata": {
    "execution": {
     "iopub.execute_input": "2021-12-24T11:18:49.272218Z",
     "iopub.status.busy": "2021-12-24T11:18:49.272218Z",
     "iopub.status.idle": "2021-12-24T11:18:49.280222Z",
     "shell.execute_reply": "2021-12-24T11:18:49.280222Z",
     "shell.execute_reply.started": "2021-12-24T11:18:49.272218Z"
    }
   },
   "outputs": [],
   "source": [
    "# Actual\n",
    "raw = open('dataset.txt').read().split('\\n')"
   ]
  },
  {
   "cell_type": "code",
   "execution_count": 6,
   "metadata": {
    "execution": {
     "iopub.execute_input": "2021-12-24T11:18:52.033417Z",
     "iopub.status.busy": "2021-12-24T11:18:52.033417Z",
     "iopub.status.idle": "2021-12-24T11:18:52.050418Z",
     "shell.execute_reply": "2021-12-24T11:18:52.050418Z",
     "shell.execute_reply.started": "2021-12-24T11:18:52.033417Z"
    }
   },
   "outputs": [
    {
     "data": {
      "text/plain": [
       "479"
      ]
     },
     "execution_count": 6,
     "metadata": {},
     "output_type": "execute_result"
    }
   ],
   "source": [
    "decoder_ring = [Decoder(line) for line in raw]\n",
    "\n",
    "unique_values = [decoder.unique_keywords_in_output() for decoder in decoder_ring]\n",
    "sum(unique_values)"
   ]
  },
  {
   "cell_type": "code",
   "execution_count": null,
   "metadata": {},
   "outputs": [],
   "source": []
  }
 ],
 "metadata": {
  "kernelspec": {
   "display_name": "Python 3",
   "language": "python",
   "name": "python3"
  },
  "language_info": {
   "codemirror_mode": {
    "name": "ipython",
    "version": 3
   },
   "file_extension": ".py",
   "mimetype": "text/x-python",
   "name": "python",
   "nbconvert_exporter": "python",
   "pygments_lexer": "ipython3",
   "version": "3.9.0"
  }
 },
 "nbformat": 4,
 "nbformat_minor": 4
}
