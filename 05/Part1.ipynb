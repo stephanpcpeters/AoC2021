{
 "cells": [
  {
   "cell_type": "code",
   "execution_count": 4,
   "metadata": {},
   "outputs": [],
   "source": [
    "import numpy as np"
   ]
  },
  {
   "cell_type": "code",
   "execution_count": 36,
   "metadata": {},
   "outputs": [],
   "source": [
    "class Line:\n",
    "    \n",
    "    x0, y0 = None, None\n",
    "    x1, y1 = None, None\n",
    "    txt = None\n",
    "    \n",
    "    def __init__(self, txt:str):\n",
    "        \n",
    "        txt = txt.split(' -> ')\n",
    "        \n",
    "        x0 = int(txt[0].split(',')[0])\n",
    "        y0 = int(txt[0].split(',')[1])\n",
    "        x1 = int(txt[1].split(',')[0])\n",
    "        y1 = int(txt[1].split(',')[1])\n",
    "        \n",
    "        self.x0 = min(x0, x1)\n",
    "        self.x1 = max(x0, x1)\n",
    "        self.y0 = min(y0, y1)\n",
    "        self.y1 = max(y0, y1)\n",
    "        \n",
    "        self.txt = txt\n",
    "        return\n",
    "    \n",
    "    def is_vertical(self):\n",
    "        return self.x0 == self.x1\n",
    "    \n",
    "    def is_horizontal(self):\n",
    "        return self.y0 == self.y1\n",
    "    \n",
    "    "
   ]
  },
  {
   "cell_type": "markdown",
   "metadata": {},
   "source": [
    "# Validation"
   ]
  },
  {
   "cell_type": "code",
   "execution_count": 10,
   "metadata": {},
   "outputs": [],
   "source": [
    "data = open('validation.csv', 'r').read().split('\\n')"
   ]
  },
  {
   "cell_type": "code",
   "execution_count": 59,
   "metadata": {},
   "outputs": [
    {
     "name": "stdout",
     "output_type": "stream",
     "text": [
      "5\n"
     ]
    }
   ],
   "source": [
    "# Generate the data\n",
    "lines = [Line(record) for record in data]\n",
    "\n",
    "# Grid size\n",
    "xmax = max([max(line.x0, line.x1) for line in lines]) + 1\n",
    "ymax = max([max(line.y0, line.y1) for line in lines]) + 1\n",
    "\n",
    "# Run the ft\n",
    "canvas = np.zeros((ymax, xmax))\n",
    "for line in lines:\n",
    "    \n",
    "    if line.is_horizontal():\n",
    "        canvas[line.y0, line.x0:line.x1+1] += 1\n",
    "    \n",
    "    if line.is_vertical():\n",
    "        canvas[line.y0:line.y1+1, line.x0] += 1    \n",
    "        \n",
    "number_of_points = (canvas >= 2).sum()\n",
    "print(number_of_points)"
   ]
  },
  {
   "cell_type": "markdown",
   "metadata": {},
   "source": [
    "# Actual"
   ]
  },
  {
   "cell_type": "code",
   "execution_count": 60,
   "metadata": {},
   "outputs": [],
   "source": [
    "data = open('actual.csv', 'r').read().split('\\n')"
   ]
  },
  {
   "cell_type": "code",
   "execution_count": 61,
   "metadata": {},
   "outputs": [
    {
     "name": "stdout",
     "output_type": "stream",
     "text": [
      "989 991\n"
     ]
    }
   ],
   "source": [
    "# Generate the data\n",
    "lines = [Line(record) for record in data]\n",
    "\n",
    "# Grid size\n",
    "xmax = max([max(line.x0, line.x1) for line in lines]) + 1\n",
    "ymax = max([max(line.y0, line.y1) for line in lines]) + 1\n",
    "print(xmax, ymax)"
   ]
  },
  {
   "cell_type": "code",
   "execution_count": 62,
   "metadata": {},
   "outputs": [
    {
     "name": "stdout",
     "output_type": "stream",
     "text": [
      "7674\n"
     ]
    }
   ],
   "source": [
    "\n",
    "\n",
    "# Run the ft\n",
    "canvas = np.zeros((ymax, xmax))\n",
    "for line in lines:\n",
    "    \n",
    "    if line.is_horizontal():\n",
    "        canvas[line.y0, line.x0:line.x1+1] += 1\n",
    "    \n",
    "    if line.is_vertical():\n",
    "        canvas[line.y0:line.y1+1, line.x0] += 1    \n",
    "        \n",
    "number_of_points = (canvas >= 2).sum()\n",
    "print(number_of_points)"
   ]
  },
  {
   "cell_type": "code",
   "execution_count": null,
   "metadata": {},
   "outputs": [],
   "source": []
  }
 ],
 "metadata": {
  "kernelspec": {
   "display_name": "Python 3",
   "language": "python",
   "name": "python3"
  },
  "language_info": {
   "codemirror_mode": {
    "name": "ipython",
    "version": 3
   },
   "file_extension": ".py",
   "mimetype": "text/x-python",
   "name": "python",
   "nbconvert_exporter": "python",
   "pygments_lexer": "ipython3",
   "version": "3.9.0"
  }
 },
 "nbformat": 4,
 "nbformat_minor": 4
}
