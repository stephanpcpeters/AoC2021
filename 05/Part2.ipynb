{
 "cells": [
  {
   "cell_type": "code",
   "execution_count": 13,
   "metadata": {},
   "outputs": [],
   "source": [
    "import numpy as np"
   ]
  },
  {
   "cell_type": "code",
   "execution_count": 35,
   "metadata": {},
   "outputs": [],
   "source": [
    "class Line:\n",
    "    \n",
    "    x0, y0 = None, None\n",
    "    x1, y1 = None, None\n",
    "    txt = None\n",
    "\n",
    "    def __init__(self, txt:str):\n",
    "\n",
    "        txt = txt.split(' -> ')\n",
    "\n",
    "        x0 = int(txt[0].split(',')[0])\n",
    "        y0 = int(txt[0].split(',')[1])\n",
    "        x1 = int(txt[1].split(',')[0])\n",
    "        y1 = int(txt[1].split(',')[1])\n",
    "\n",
    "        self.x0 = x0\n",
    "        self.y0 = y0\n",
    "        self.x1 = x1\n",
    "        self.y1 = y1\n",
    "\n",
    "        self.min_x = min(x0, x1)\n",
    "        self.max_x = max(x0, x1)\n",
    "        self.min_y = min(y0, y1)\n",
    "        self.max_y = max(y0, y1)\n",
    "\n",
    "        self.txt = txt\n",
    "        return\n",
    "    \n",
    "    def __str__(self):\n",
    "        \n",
    "        return \"line ({0},{1}) -> ({2},{3})\".format(self.x0, self.y0, self.x1, self.y1)\n",
    "    \n",
    "    def __repr__(self):\n",
    "        return self.__str__()\n",
    "\n",
    "\n",
    "    def get_xrange(self):\n",
    "\n",
    "        xrange = np.arange(self.min_x, self.max_x+1)\n",
    "\n",
    "        if self.x0 > self.x1:\n",
    "            xrange = xrange[::-1]\n",
    "        return xrange\n",
    "\n",
    "    def get_yrange(self):\n",
    "\n",
    "        yrange = np.arange(self.min_y, self.max_y+1)\n",
    "\n",
    "        if self.y0 > self.y1:\n",
    "            yrange = yrange[::-1]\n",
    "        return yrange   \n",
    "\n",
    "    def is_vertical(self):\n",
    "        return self.x0 == self.x1\n",
    "\n",
    "    def is_horizontal(self):\n",
    "        return self.y0 == self.y1\n",
    "\n",
    "    def is_diagonal(self):\n",
    "\n",
    "        if self.is_vertical() or self.is_horizontal():\n",
    "            return False\n",
    "\n",
    "        step_x = self.max_x - self.min_x\n",
    "        step_y = self.max_y - self.min_y\n",
    "\n",
    "        return step_x == step_y\n"
   ]
  },
  {
   "cell_type": "markdown",
   "metadata": {},
   "source": [
    "# Validation"
   ]
  },
  {
   "cell_type": "code",
   "execution_count": 63,
   "metadata": {},
   "outputs": [],
   "source": [
    "data = open('validation.csv', 'r').read().split('\\n')"
   ]
  },
  {
   "cell_type": "code",
   "execution_count": 64,
   "metadata": {
    "tags": []
   },
   "outputs": [
    {
     "name": "stdout",
     "output_type": "stream",
     "text": [
      "line (8,0) -> (0,8)\n",
      "line (6,4) -> (2,0)\n",
      "line (0,0) -> (8,8)\n",
      "line (5,5) -> (8,2)\n",
      "12\n"
     ]
    }
   ],
   "source": [
    "# Generate the data\n",
    "lines = [Line(record) for record in data]\n",
    "\n",
    "# Grid size\n",
    "xmax = max([max(line.x0, line.x1) for line in lines]) + 1\n",
    "ymax = max([max(line.y0, line.y1) for line in lines]) + 1\n",
    "\n",
    "# Run the ft\n",
    "canvas = np.zeros((ymax, xmax))\n",
    "for line in lines:\n",
    "    \n",
    "    if line.is_horizontal():\n",
    "        canvas[line.max_y, line.min_x:line.max_x+1] += 1\n",
    "    \n",
    "    if line.is_vertical():\n",
    "        canvas[line.min_y:line.max_y+1, line.max_x] += 1    \n",
    "        \n",
    "    if line.is_diagonal():\n",
    "        print(line)\n",
    "        xrange = line.get_xrange()\n",
    "        yrange = line.get_yrange()\n",
    "\n",
    "        for position in zip(xrange, yrange):\n",
    "            canvas[position[1], position[0]] += 1\n",
    "        \n",
    "number_of_points = (canvas >= 2).sum()\n",
    "print(number_of_points)"
   ]
  },
  {
   "cell_type": "code",
   "execution_count": 65,
   "metadata": {},
   "outputs": [
    {
     "name": "stdout",
     "output_type": "stream",
     "text": [
      "[[1. 0. 1. 0. 0. 0. 0. 1. 1. 0.]\n",
      " [0. 1. 1. 1. 0. 0. 0. 2. 0. 0.]\n",
      " [0. 0. 2. 0. 1. 0. 1. 1. 1. 0.]\n",
      " [0. 0. 0. 1. 0. 2. 0. 2. 0. 0.]\n",
      " [0. 1. 1. 2. 3. 1. 3. 2. 1. 1.]\n",
      " [0. 0. 0. 1. 0. 2. 0. 0. 0. 0.]\n",
      " [0. 0. 1. 0. 0. 0. 1. 0. 0. 0.]\n",
      " [0. 1. 0. 0. 0. 0. 0. 1. 0. 0.]\n",
      " [1. 0. 0. 0. 0. 0. 0. 0. 1. 0.]\n",
      " [2. 2. 2. 1. 1. 1. 0. 0. 0. 0.]]\n"
     ]
    }
   ],
   "source": [
    "print(canvas)"
   ]
  },
  {
   "cell_type": "markdown",
   "metadata": {},
   "source": [
    "# Actual"
   ]
  },
  {
   "cell_type": "code",
   "execution_count": 53,
   "metadata": {},
   "outputs": [],
   "source": [
    "data = open('actual.csv', 'r').read().split('\\n')"
   ]
  },
  {
   "cell_type": "code",
   "execution_count": null,
   "metadata": {},
   "outputs": [],
   "source": []
  },
  {
   "cell_type": "code",
   "execution_count": 61,
   "metadata": {},
   "outputs": [
    {
     "name": "stdout",
     "output_type": "stream",
     "text": [
      "20898\n"
     ]
    }
   ],
   "source": [
    "# Generate the data\n",
    "lines = [Line(record) for record in data]\n",
    "\n",
    "# Grid size\n",
    "xmax = max([max(line.x0, line.x1) for line in lines]) + 1\n",
    "ymax = max([max(line.y0, line.y1) for line in lines]) + 1\n",
    "\n",
    "# Run the ft\n",
    "canvas = np.zeros((ymax, xmax))\n",
    "for line in lines:\n",
    "    \n",
    "    if line.is_horizontal():\n",
    "        canvas[line.max_y, line.min_x:line.max_x+1] += 1\n",
    "    \n",
    "    if line.is_vertical():\n",
    "        canvas[line.min_y:line.max_y+1, line.max_x] += 1    \n",
    "        \n",
    "    if line.is_diagonal():\n",
    "        xrange = line.get_xrange()\n",
    "        yrange = line.get_yrange()\n",
    "\n",
    "        for position in zip(xrange, yrange):\n",
    "            canvas[position[1], position[0]] += 1\n",
    "        \n",
    "number_of_points = (canvas >= 2).sum()\n",
    "print(number_of_points)"
   ]
  },
  {
   "cell_type": "code",
   "execution_count": 57,
   "metadata": {},
   "outputs": [
    {
     "name": "stdout",
     "output_type": "stream",
     "text": [
      "[[0. 0. 0. ... 0. 0. 0.]\n",
      " [0. 0. 0. ... 0. 0. 0.]\n",
      " [0. 0. 0. ... 0. 0. 0.]\n",
      " ...\n",
      " [0. 0. 0. ... 0. 0. 0.]\n",
      " [0. 0. 0. ... 0. 0. 0.]\n",
      " [0. 0. 0. ... 0. 0. 0.]]\n"
     ]
    }
   ],
   "source": [
    "print(canvas)"
   ]
  },
  {
   "cell_type": "code",
   "execution_count": null,
   "metadata": {},
   "outputs": [],
   "source": []
  }
 ],
 "metadata": {
  "kernelspec": {
   "display_name": "Python 3",
   "language": "python",
   "name": "python3"
  },
  "language_info": {
   "codemirror_mode": {
    "name": "ipython",
    "version": 3
   },
   "file_extension": ".py",
   "mimetype": "text/x-python",
   "name": "python",
   "nbconvert_exporter": "python",
   "pygments_lexer": "ipython3",
   "version": "3.9.0"
  }
 },
 "nbformat": 4,
 "nbformat_minor": 4
}
