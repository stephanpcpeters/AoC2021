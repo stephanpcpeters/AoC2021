{
 "cells": [
  {
   "cell_type": "code",
   "execution_count": 27,
   "metadata": {
    "execution": {
     "iopub.execute_input": "2021-12-18T15:00:20.643399Z",
     "iopub.status.busy": "2021-12-18T15:00:20.643399Z",
     "iopub.status.idle": "2021-12-18T15:00:20.653401Z",
     "shell.execute_reply": "2021-12-18T15:00:20.653401Z",
     "shell.execute_reply.started": "2021-12-18T15:00:20.643399Z"
    },
    "tags": []
   },
   "outputs": [],
   "source": [
    "import numpy as np\n",
    "from collections import Counter"
   ]
  },
  {
   "cell_type": "code",
   "execution_count": 53,
   "metadata": {
    "execution": {
     "iopub.execute_input": "2021-12-18T15:09:54.218581Z",
     "iopub.status.busy": "2021-12-18T15:09:54.218581Z",
     "iopub.status.idle": "2021-12-18T15:09:54.229578Z",
     "shell.execute_reply": "2021-12-18T15:09:54.229578Z",
     "shell.execute_reply.started": "2021-12-18T15:09:54.218581Z"
    },
    "tags": []
   },
   "outputs": [],
   "source": [
    "def process(raw):\n",
    "    gamma_rate = \"0b\"\n",
    "    epsilon_rate = \"0b\"\n",
    "\n",
    "    for i in range(len(raw[0])):\n",
    "\n",
    "        subset = [char[i] for char in raw]\n",
    "\n",
    "        count = Counter(subset)\n",
    "\n",
    "        if count['0'] > count['1']:\n",
    "            gamma_rate += \"0\"\n",
    "            epsilon_rate += \"1\"\n",
    "        elif count['0'] < count['1']:\n",
    "            gamma_rate += \"1\"\n",
    "            epsilon_rate += \"0\"\n",
    "        else:\n",
    "            assert False, 'unhandled'    \n",
    "\n",
    "    print(\"gamma_rate\", gamma_rate, int(gamma_rate, 2) )\n",
    "    print(\"epsilon_rate\", epsilon_rate, int(epsilon_rate, 2) )\n",
    "\n",
    "    power_consumption = int(gamma_rate, 2) * int(epsilon_rate, 2)\n",
    "\n",
    "    print(\"power_consumption\", power_consumption)\n",
    "    return power_consumption"
   ]
  },
  {
   "cell_type": "markdown",
   "metadata": {},
   "source": [
    "# Instructions"
   ]
  },
  {
   "cell_type": "code",
   "execution_count": 28,
   "metadata": {
    "execution": {
     "iopub.execute_input": "2021-12-18T15:00:35.382682Z",
     "iopub.status.busy": "2021-12-18T15:00:35.381693Z",
     "iopub.status.idle": "2021-12-18T15:00:35.399684Z",
     "shell.execute_reply": "2021-12-18T15:00:35.399684Z",
     "shell.execute_reply.started": "2021-12-18T15:00:35.382682Z"
    },
    "tags": []
   },
   "outputs": [],
   "source": [
    "raw = \"\"\"00100\n",
    "11110\n",
    "10110\n",
    "10111\n",
    "10101\n",
    "01111\n",
    "00111\n",
    "11100\n",
    "10000\n",
    "11001\n",
    "00010\n",
    "01010\"\"\".split('\\n')"
   ]
  },
  {
   "cell_type": "code",
   "execution_count": 55,
   "metadata": {
    "execution": {
     "iopub.execute_input": "2021-12-18T15:10:10.493412Z",
     "iopub.status.busy": "2021-12-18T15:10:10.493412Z",
     "iopub.status.idle": "2021-12-18T15:10:10.504411Z",
     "shell.execute_reply": "2021-12-18T15:10:10.504411Z",
     "shell.execute_reply.started": "2021-12-18T15:10:10.493412Z"
    },
    "tags": []
   },
   "outputs": [
    {
     "name": "stdout",
     "output_type": "stream",
     "text": [
      "gamma_rate 0b10110 22\n",
      "epsilon_rate 0b01001 9\n",
      "power_consumption 198\n"
     ]
    }
   ],
   "source": [
    "assert process(raw) == 198"
   ]
  },
  {
   "cell_type": "markdown",
   "metadata": {},
   "source": [
    "# Actual data"
   ]
  },
  {
   "cell_type": "code",
   "execution_count": 61,
   "metadata": {
    "execution": {
     "iopub.execute_input": "2021-12-18T15:11:14.880464Z",
     "iopub.status.busy": "2021-12-18T15:11:14.880464Z",
     "iopub.status.idle": "2021-12-18T15:11:14.888460Z",
     "shell.execute_reply": "2021-12-18T15:11:14.888460Z",
     "shell.execute_reply.started": "2021-12-18T15:11:14.880464Z"
    },
    "tags": []
   },
   "outputs": [],
   "source": [
    "raw = open('data.csv', 'r').read().split('\\n')"
   ]
  },
  {
   "cell_type": "code",
   "execution_count": 62,
   "metadata": {
    "execution": {
     "iopub.execute_input": "2021-12-18T15:11:17.005370Z",
     "iopub.status.busy": "2021-12-18T15:11:17.005370Z",
     "iopub.status.idle": "2021-12-18T15:11:17.012368Z",
     "shell.execute_reply": "2021-12-18T15:11:17.012368Z",
     "shell.execute_reply.started": "2021-12-18T15:11:17.005370Z"
    },
    "tags": []
   },
   "outputs": [
    {
     "name": "stdout",
     "output_type": "stream",
     "text": [
      "gamma_rate 0b001100010000 784\n",
      "epsilon_rate 0b110011101111 3311\n",
      "power_consumption 2595824\n"
     ]
    },
    {
     "data": {
      "text/plain": [
       "2595824"
      ]
     },
     "execution_count": 62,
     "metadata": {},
     "output_type": "execute_result"
    }
   ],
   "source": [
    "process(raw)"
   ]
  },
  {
   "cell_type": "code",
   "execution_count": null,
   "metadata": {},
   "outputs": [],
   "source": []
  }
 ],
 "metadata": {
  "kernelspec": {
   "display_name": "Python 3",
   "language": "python",
   "name": "python3"
  },
  "language_info": {
   "codemirror_mode": {
    "name": "ipython",
    "version": 3
   },
   "file_extension": ".py",
   "mimetype": "text/x-python",
   "name": "python",
   "nbconvert_exporter": "python",
   "pygments_lexer": "ipython3",
   "version": "3.9.0"
  }
 },
 "nbformat": 4,
 "nbformat_minor": 4
}
