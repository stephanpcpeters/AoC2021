{
 "cells": [
  {
   "cell_type": "code",
   "execution_count": 11,
   "metadata": {
    "execution": {
     "iopub.execute_input": "2021-12-18T15:20:06.062891Z",
     "iopub.status.busy": "2021-12-18T15:20:06.062891Z",
     "iopub.status.idle": "2021-12-18T15:20:06.076885Z",
     "shell.execute_reply": "2021-12-18T15:20:06.076885Z",
     "shell.execute_reply.started": "2021-12-18T15:20:06.062891Z"
    },
    "tags": []
   },
   "outputs": [],
   "source": [
    "import numpy as np\n",
    "import pandas as pd\n",
    "from collections import Counter"
   ]
  },
  {
   "cell_type": "markdown",
   "metadata": {},
   "source": [
    "# Instructions"
   ]
  },
  {
   "cell_type": "code",
   "execution_count": 74,
   "metadata": {
    "execution": {
     "iopub.execute_input": "2021-12-18T15:31:20.549461Z",
     "iopub.status.busy": "2021-12-18T15:31:20.549461Z",
     "iopub.status.idle": "2021-12-18T15:31:20.565458Z",
     "shell.execute_reply": "2021-12-18T15:31:20.565458Z",
     "shell.execute_reply.started": "2021-12-18T15:31:20.549461Z"
    },
    "tags": []
   },
   "outputs": [],
   "source": [
    "def process(raw):\n",
    "    data = [[char for char in line] for line in raw.split('\\n')]\n",
    "    df = pd.DataFrame(data)\n",
    "\n",
    "    # Oxygen\n",
    "    subset = df\n",
    "    for column in df.columns:\n",
    "        count = subset[column].value_counts()\n",
    "        if count['0'] > count['1']:\n",
    "            target = '0'\n",
    "        else:\n",
    "            target = '1'\n",
    "        subset = subset.loc[subset[column] == target]\n",
    "\n",
    "        if len(subset) == 1:\n",
    "            break\n",
    "    oxygen = \"0b\" + \"\".join(subset.iloc()[0])\n",
    "\n",
    "    # CO2\n",
    "    subset = df\n",
    "    for column in df.columns:\n",
    "        count = subset[column].value_counts()\n",
    "        if count['0'] > count['1']:\n",
    "            target = '1'\n",
    "        else:\n",
    "            target = '0'\n",
    "        subset = subset.loc[subset[column] == target]\n",
    "\n",
    "        if len(subset) == 1:\n",
    "            break\n",
    "    CO2 = \"0b\" + \"\".join(subset.iloc()[0])\n",
    "\n",
    "\n",
    "\n",
    "    print('Oxygen', oxygen, int(oxygen, 2))\n",
    "    print('CO2', CO2, int(CO2, 2))\n",
    "    return int(oxygen, 2), int(CO2, 2)"
   ]
  },
  {
   "cell_type": "code",
   "execution_count": 75,
   "metadata": {
    "execution": {
     "iopub.execute_input": "2021-12-18T15:31:20.890430Z",
     "iopub.status.busy": "2021-12-18T15:31:20.890430Z",
     "iopub.status.idle": "2021-12-18T15:31:20.894430Z",
     "shell.execute_reply": "2021-12-18T15:31:20.894430Z",
     "shell.execute_reply.started": "2021-12-18T15:31:20.890430Z"
    },
    "tags": []
   },
   "outputs": [],
   "source": [
    "raw = \"\"\"00100\n",
    "11110\n",
    "10110\n",
    "10111\n",
    "10101\n",
    "01111\n",
    "00111\n",
    "11100\n",
    "10000\n",
    "11001\n",
    "00010\n",
    "01010\"\"\""
   ]
  },
  {
   "cell_type": "code",
   "execution_count": 76,
   "metadata": {
    "execution": {
     "iopub.execute_input": "2021-12-18T15:31:21.076117Z",
     "iopub.status.busy": "2021-12-18T15:31:21.076117Z",
     "iopub.status.idle": "2021-12-18T15:31:21.098120Z",
     "shell.execute_reply": "2021-12-18T15:31:21.098120Z",
     "shell.execute_reply.started": "2021-12-18T15:31:21.076117Z"
    },
    "tags": []
   },
   "outputs": [
    {
     "name": "stdout",
     "output_type": "stream",
     "text": [
      "Oxygen 0b10111 23\n",
      "CO2 0b01010 10\n"
     ]
    }
   ],
   "source": [
    "result = process(raw)\n",
    "assert result[0] == 23\n",
    "assert result[1] == 10"
   ]
  },
  {
   "cell_type": "markdown",
   "metadata": {},
   "source": [
    "# Actual data"
   ]
  },
  {
   "cell_type": "code",
   "execution_count": 80,
   "metadata": {
    "execution": {
     "iopub.execute_input": "2021-12-18T15:31:33.105095Z",
     "iopub.status.busy": "2021-12-18T15:31:33.105095Z",
     "iopub.status.idle": "2021-12-18T15:31:33.110092Z",
     "shell.execute_reply": "2021-12-18T15:31:33.110092Z",
     "shell.execute_reply.started": "2021-12-18T15:31:33.105095Z"
    },
    "tags": []
   },
   "outputs": [],
   "source": [
    "raw = open('data.csv', 'r').read()"
   ]
  },
  {
   "cell_type": "code",
   "execution_count": 82,
   "metadata": {
    "execution": {
     "iopub.execute_input": "2021-12-18T15:31:43.701277Z",
     "iopub.status.busy": "2021-12-18T15:31:43.701277Z",
     "iopub.status.idle": "2021-12-18T15:31:43.719275Z",
     "shell.execute_reply": "2021-12-18T15:31:43.719275Z",
     "shell.execute_reply.started": "2021-12-18T15:31:43.701277Z"
    },
    "tags": []
   },
   "outputs": [
    {
     "name": "stdout",
     "output_type": "stream",
     "text": [
      "Oxygen 0b001100001101 781\n",
      "CO2 0b101010101110 2734\n"
     ]
    }
   ],
   "source": [
    "result = process(raw)"
   ]
  },
  {
   "cell_type": "code",
   "execution_count": 83,
   "metadata": {
    "execution": {
     "iopub.execute_input": "2021-12-18T15:31:50.781018Z",
     "iopub.status.busy": "2021-12-18T15:31:50.780019Z",
     "iopub.status.idle": "2021-12-18T15:31:50.793020Z",
     "shell.execute_reply": "2021-12-18T15:31:50.793020Z",
     "shell.execute_reply.started": "2021-12-18T15:31:50.781018Z"
    }
   },
   "outputs": [
    {
     "data": {
      "text/plain": [
       "2135254"
      ]
     },
     "execution_count": 83,
     "metadata": {},
     "output_type": "execute_result"
    }
   ],
   "source": [
    "result[0] * result[1]"
   ]
  },
  {
   "cell_type": "code",
   "execution_count": null,
   "metadata": {},
   "outputs": [],
   "source": []
  }
 ],
 "metadata": {
  "kernelspec": {
   "display_name": "Python 3",
   "language": "python",
   "name": "python3"
  },
  "language_info": {
   "codemirror_mode": {
    "name": "ipython",
    "version": 3
   },
   "file_extension": ".py",
   "mimetype": "text/x-python",
   "name": "python",
   "nbconvert_exporter": "python",
   "pygments_lexer": "ipython3",
   "version": "3.9.0"
  }
 },
 "nbformat": 4,
 "nbformat_minor": 4
}
