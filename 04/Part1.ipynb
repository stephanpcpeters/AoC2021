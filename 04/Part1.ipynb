{
 "cells": [
  {
   "cell_type": "code",
   "execution_count": 1,
   "metadata": {},
   "outputs": [],
   "source": [
    "import pandas as pd\n",
    "import numpy as np"
   ]
  },
  {
   "cell_type": "code",
   "execution_count": 13,
   "metadata": {},
   "outputs": [],
   "source": [
    "class Board():\n",
    "    \n",
    "    board = None   # numbers\n",
    "    marked = None  # marked\n",
    "    last_number = None\n",
    "    \n",
    "    def __init__(self, raw):\n",
    "        \n",
    "        board = [[int(number) for number in line.replace('  ', ' ').strip().split(' ')] for line in raw_board]\n",
    "        self.board = np.array(board)\n",
    "        \n",
    "        self.marked = self.board == None\n",
    "        return\n",
    "    \n",
    "    def mark(self, number):\n",
    "        self.marked += (self.board == number)\n",
    "        self.last_number = number\n",
    "\n",
    "    def won(self):\n",
    "        if self.marked.sum(axis=0).max() == self.marked.shape[0]:\n",
    "            return True\n",
    "        if self.marked.sum(axis=1).max() == self.marked.shape[1]:\n",
    "            return True\n",
    "        return False\n",
    "    \n",
    "    def final_score(self):\n",
    "        \n",
    "        assert self.won()\n",
    "        \n",
    "        sum_of_remainder = self.board[~self.marked].sum()\n",
    "        return sum_of_remainder * self.last_number\n",
    "        \n",
    "        "
   ]
  },
  {
   "cell_type": "markdown",
   "metadata": {},
   "source": [
    "# Validation"
   ]
  },
  {
   "cell_type": "code",
   "execution_count": 14,
   "metadata": {},
   "outputs": [],
   "source": [
    "dataset = open(\"validation_dataset1.csv\", \"r\").read().split('\\n')\n",
    "\n",
    "draw_numbers = [int(i) for i in dataset[0].split(',')]"
   ]
  },
  {
   "cell_type": "code",
   "execution_count": null,
   "metadata": {},
   "outputs": [],
   "source": []
  },
  {
   "cell_type": "code",
   "execution_count": 16,
   "metadata": {},
   "outputs": [],
   "source": [
    "# Setup the boards\n",
    "board_collection = []\n",
    "number_of_boards = (len(dataset)-1) // 6\n",
    "for i in range(number_of_boards):\n",
    "    raw_board = dataset[2+i*6:7+i*6]\n",
    "    \n",
    "    board_collection.append(Board(raw_board))"
   ]
  },
  {
   "cell_type": "code",
   "execution_count": 19,
   "metadata": {},
   "outputs": [
    {
     "name": "stdout",
     "output_type": "stream",
     "text": [
      "7\n",
      "4\n",
      "9\n",
      "5\n",
      "11\n",
      "17\n",
      "23\n",
      "2\n",
      "0\n",
      "14\n",
      "21\n",
      "24\n"
     ]
    }
   ],
   "source": [
    "# Running the numbers\n",
    "for number in draw_numbers:\n",
    "    print(number)\n",
    "    for board in board_collection:\n",
    "        board.mark(number)\n",
    "        \n",
    "        if board.won():\n",
    "            break"
   ]
  },
  {
   "cell_type": "code",
   "execution_count": 20,
   "metadata": {},
   "outputs": [
    {
     "data": {
      "text/plain": [
       "4512"
      ]
     },
     "execution_count": 20,
     "metadata": {},
     "output_type": "execute_result"
    }
   ],
   "source": [
    "board.final_score()"
   ]
  },
  {
   "cell_type": "markdown",
   "metadata": {},
   "source": [
    "## Actual"
   ]
  },
  {
   "cell_type": "code",
   "execution_count": 39,
   "metadata": {},
   "outputs": [],
   "source": [
    "dataset = open(\"dataset1.csv\", \"r\").read().split('\\n')\n",
    "\n",
    "draw_numbers = [int(i) for i in dataset[0].split(',')]"
   ]
  },
  {
   "cell_type": "code",
   "execution_count": 40,
   "metadata": {},
   "outputs": [],
   "source": [
    "def setup_boards(dataset):\n",
    "    # Setup the boards\n",
    "    board_collection = []\n",
    "    number_of_boards = (len(dataset)-1) // 6\n",
    "    for i in range(number_of_boards):\n",
    "        raw_board = dataset[2+i*6:7+i*6]\n",
    "\n",
    "        board_collection.append(Board(raw_board))\n",
    "    return board_collection"
   ]
  },
  {
   "cell_type": "code",
   "execution_count": 41,
   "metadata": {},
   "outputs": [],
   "source": [
    "def find_winning_board(board_collection, draw_numbers):\n",
    "    # Running the numbers\n",
    "    for number in draw_numbers:\n",
    "        print(number)\n",
    "        for board in board_collection:\n",
    "            board.mark(number)\n",
    "\n",
    "            if board.won():\n",
    "                return board"
   ]
  },
  {
   "cell_type": "code",
   "execution_count": 42,
   "metadata": {},
   "outputs": [
    {
     "name": "stdout",
     "output_type": "stream",
     "text": [
      "72\n",
      "86\n",
      "73\n",
      "66\n",
      "37\n",
      "76\n",
      "19\n",
      "40\n",
      "77\n",
      "42\n",
      "48\n",
      "62\n",
      "46\n",
      "3\n",
      "95\n",
      "17\n",
      "97\n",
      "41\n",
      "10\n",
      "14\n",
      "83\n",
      "90\n",
      "12\n",
      "23\n",
      "81\n",
      "98\n",
      "11\n",
      "57\n",
      "13\n",
      "69\n",
      "28\n",
      "63\n",
      "5\n",
      "78\n",
      "79\n",
      "58\n",
      "54\n",
      "67\n",
      "60\n",
      "34\n",
      "39\n",
      "84\n",
      "94\n",
      "29\n",
      "20\n",
      "0\n",
      "24\n",
      "38\n",
      "43\n",
      "51\n",
      "64\n",
      "18\n",
      "27\n",
      "52\n",
      "47\n",
      "74\n",
      "59\n",
      "22\n",
      "85\n",
      "65\n",
      "80\n",
      "2\n",
      "99\n",
      "70\n",
      "33\n",
      "91\n",
      "53\n",
      "93\n",
      "9\n",
      "82\n",
      "8\n",
      "50\n"
     ]
    }
   ],
   "source": [
    "board_collection = setup_boards(dataset)\n",
    "board = find_winning_board(board_collection, draw_numbers)"
   ]
  },
  {
   "cell_type": "code",
   "execution_count": 37,
   "metadata": {},
   "outputs": [
    {
     "data": {
      "text/plain": [
       "13200"
      ]
     },
     "execution_count": 37,
     "metadata": {},
     "output_type": "execute_result"
    }
   ],
   "source": [
    "board.final_score()"
   ]
  },
  {
   "cell_type": "code",
   "execution_count": 38,
   "metadata": {},
   "outputs": [
    {
     "data": {
      "text/plain": [
       "array([[76, 52, 54, 92, 80],\n",
       "       [74, 50, 11, 27, 78],\n",
       "       [63,  9, 25, 38, 20],\n",
       "       [ 3, 90, 39, 37, 15],\n",
       "       [87, 45, 17, 93, 62]])"
      ]
     },
     "execution_count": 38,
     "metadata": {},
     "output_type": "execute_result"
    }
   ],
   "source": [
    "board.board"
   ]
  },
  {
   "cell_type": "code",
   "execution_count": null,
   "metadata": {},
   "outputs": [],
   "source": []
  }
 ],
 "metadata": {
  "kernelspec": {
   "display_name": "Python 3",
   "language": "python",
   "name": "python3"
  },
  "language_info": {
   "codemirror_mode": {
    "name": "ipython",
    "version": 3
   },
   "file_extension": ".py",
   "mimetype": "text/x-python",
   "name": "python",
   "nbconvert_exporter": "python",
   "pygments_lexer": "ipython3",
   "version": "3.9.0"
  }
 },
 "nbformat": 4,
 "nbformat_minor": 4
}
