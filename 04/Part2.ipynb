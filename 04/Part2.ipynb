{
 "cells": [
  {
   "cell_type": "code",
   "execution_count": 1,
   "metadata": {},
   "outputs": [],
   "source": [
    "import pandas as pd\n",
    "import numpy as np"
   ]
  },
  {
   "cell_type": "code",
   "execution_count": 2,
   "metadata": {},
   "outputs": [],
   "source": [
    "class Board():\n",
    "    \n",
    "    board = None   # numbers\n",
    "    marked = None  # marked\n",
    "    last_number = None\n",
    "    number_of_tries = 0\n",
    "    \n",
    "    def __init__(self, raw):\n",
    "        \n",
    "        board = [[int(number) for number in line.replace('  ', ' ').strip().split(' ')] for line in raw_board]\n",
    "        self.board = np.array(board)\n",
    "        \n",
    "        self.marked = self.board == None\n",
    "        return\n",
    "    \n",
    "    def mark(self, number):\n",
    "        if not self.won():\n",
    "            self.marked += (self.board == number)\n",
    "            self.last_number = number\n",
    "            self.number_of_tries += 1\n",
    "\n",
    "    def won(self):\n",
    "        if self.marked.sum(axis=0).max() == self.marked.shape[0]:\n",
    "            return True\n",
    "        if self.marked.sum(axis=1).max() == self.marked.shape[1]:\n",
    "            return True\n",
    "        return False\n",
    "    \n",
    "    def final_score(self):\n",
    "        \n",
    "        assert self.won()\n",
    "        \n",
    "        sum_of_remainder = self.board[~self.marked].sum()\n",
    "        return sum_of_remainder * self.last_number\n",
    "        \n",
    "        "
   ]
  },
  {
   "cell_type": "markdown",
   "metadata": {},
   "source": [
    "# Validation"
   ]
  },
  {
   "cell_type": "code",
   "execution_count": 3,
   "metadata": {},
   "outputs": [],
   "source": [
    "dataset = open(\"validation_dataset1.csv\", \"r\").read().split('\\n')\n",
    "\n",
    "draw_numbers = [int(i) for i in dataset[0].split(',')]"
   ]
  },
  {
   "cell_type": "code",
   "execution_count": 4,
   "metadata": {},
   "outputs": [],
   "source": [
    "# Setup the boards\n",
    "board_collection = []\n",
    "number_of_boards = (len(dataset)-1) // 6\n",
    "for i in range(number_of_boards):\n",
    "    raw_board = dataset[2+i*6:7+i*6]\n",
    "    \n",
    "    board_collection.append(Board(raw_board))"
   ]
  },
  {
   "cell_type": "code",
   "execution_count": 5,
   "metadata": {},
   "outputs": [],
   "source": [
    "\n",
    "# Running the numbers\n",
    "for number in draw_numbers:\n",
    "    for board in board_collection:\n",
    "        board.mark(number)"
   ]
  },
  {
   "cell_type": "code",
   "execution_count": 6,
   "metadata": {},
   "outputs": [
    {
     "data": {
      "text/plain": [
       "1924"
      ]
     },
     "execution_count": 6,
     "metadata": {},
     "output_type": "execute_result"
    }
   ],
   "source": [
    "required_draws_to_win = np.array([board.number_of_tries for board in board_collection])\n",
    "\n",
    "worst_board = board_collection[required_draws_to_win.argmax()]\n",
    "worst_board.final_score()"
   ]
  },
  {
   "cell_type": "markdown",
   "metadata": {},
   "source": [
    "## Actual"
   ]
  },
  {
   "cell_type": "code",
   "execution_count": 7,
   "metadata": {},
   "outputs": [],
   "source": [
    "dataset = open(\"dataset1.csv\", \"r\").read().split('\\n')\n",
    "\n",
    "draw_numbers = [int(i) for i in dataset[0].split(',')]"
   ]
  },
  {
   "cell_type": "code",
   "execution_count": 8,
   "metadata": {},
   "outputs": [],
   "source": [
    "# Setup the boards\n",
    "board_collection = []\n",
    "number_of_boards = (len(dataset)-1) // 6\n",
    "for i in range(number_of_boards):\n",
    "    raw_board = dataset[2+i*6:7+i*6]\n",
    "    \n",
    "    board_collection.append(Board(raw_board))"
   ]
  },
  {
   "cell_type": "code",
   "execution_count": 9,
   "metadata": {},
   "outputs": [],
   "source": [
    "\n",
    "# Running the numbers\n",
    "for number in draw_numbers:\n",
    "    for board in board_collection:\n",
    "        board.mark(number)"
   ]
  },
  {
   "cell_type": "code",
   "execution_count": 10,
   "metadata": {},
   "outputs": [
    {
     "data": {
      "text/plain": [
       "1284"
      ]
     },
     "execution_count": 10,
     "metadata": {},
     "output_type": "execute_result"
    }
   ],
   "source": [
    "required_draws_to_win = np.array([board.number_of_tries for board in board_collection])\n",
    "\n",
    "worst_board = board_collection[required_draws_to_win.argmax()]\n",
    "worst_board.final_score()"
   ]
  },
  {
   "cell_type": "code",
   "execution_count": null,
   "metadata": {},
   "outputs": [],
   "source": []
  }
 ],
 "metadata": {
  "kernelspec": {
   "display_name": "Python 3",
   "language": "python",
   "name": "python3"
  },
  "language_info": {
   "codemirror_mode": {
    "name": "ipython",
    "version": 3
   },
   "file_extension": ".py",
   "mimetype": "text/x-python",
   "name": "python",
   "nbconvert_exporter": "python",
   "pygments_lexer": "ipython3",
   "version": "3.9.0"
  }
 },
 "nbformat": 4,
 "nbformat_minor": 4
}
